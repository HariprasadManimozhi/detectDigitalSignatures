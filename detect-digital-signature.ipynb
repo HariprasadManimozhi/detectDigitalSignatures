{
 "cells": [
  {
   "cell_type": "markdown",
   "metadata": {},
   "source": [
    "## Detect digital signatures"
   ]
  },
  {
   "cell_type": "markdown",
   "metadata": {},
   "source": [
    "### Objective\n",
    "> #### Detect if files(.pdf) have digital signature or not and move signed & non-singed files to desired locations\n",
    "\n",
    "### Steps\n",
    "1. Import libraries\n",
    "2. Create desired folders for signed & non-signed files\n",
    "3. Desgin function to detect & move digitally signed files\n",
    "4. Iterate over each file in folder\n",
    "5. Function call\n",
    "\n",
    "### Code"
   ]
  },
  {
   "cell_type": "code",
   "execution_count": 45,
   "metadata": {},
   "outputs": [
    {
     "name": "stdout",
     "output_type": "stream",
     "text": [
      "Wall time: 0 ns\n",
      "Digitally signed\n",
      "File with digital signatures moves to folder\n",
      "Digitally signed\n",
      "File with digital signatures moves to folder\n",
      "Digitally signed\n",
      "File with digital signatures moves to folder\n",
      "Digitally signed\n",
      "File with digital signatures moves to folder\n"
     ]
    }
   ],
   "source": [
    "# import packages\n",
    "import PyPDF2 # pdf toolkit library \n",
    "import os,shutil\n",
    "\n",
    "directory = os.getcwd()\n",
    "\n",
    "# Create new folder Digitally signed\n",
    "outdir = './Digitally signed'\n",
    "if not os.path.exists(outdir):\n",
    "    os.mkdir(outdir)\n",
    "\n",
    "# Create new folder no signature \n",
    "outdir = './No signature'\n",
    "if not os.path.exists(outdir):\n",
    "    os.mkdir(outdir)\n",
    "    \n",
    "# Function to detect digital signature & move into corresponding folder\n",
    "def detectDigitalSignature(file):\n",
    "    # open the pdf file\n",
    "    object = PyPDF2.PdfFileReader(file)\n",
    "\n",
    "    a = object.getFields()\n",
    "    if a is None:\n",
    "        print('No signature')\n",
    "        shutil.move(file, './No signature')\n",
    "    else:\n",
    "        print('Digitally signed')\n",
    "        shutil.move(file, './Digitally signed')\n",
    "\n",
    "# Iterate over .pdf files in folder\n",
    "%time\n",
    "for file in os.listdir(directory):\n",
    "     filename = os.fsdecode(file)\n",
    "     if filename.endswith(\".pdf\"): \n",
    "        detectDigitalSignature(filename)\n",
    "        print('File with digital signatures moves to folder')\n",
    "        continue\n",
    "     else:\n",
    "         continue"
   ]
  }
 ],
 "metadata": {
  "kernelspec": {
   "display_name": "Python 3",
   "language": "python",
   "name": "python3"
  },
  "language_info": {
   "codemirror_mode": {
    "name": "ipython",
    "version": 3
   },
   "file_extension": ".py",
   "mimetype": "text/x-python",
   "name": "python",
   "nbconvert_exporter": "python",
   "pygments_lexer": "ipython3",
   "version": "3.8.1"
  }
 },
 "nbformat": 4,
 "nbformat_minor": 4
}
